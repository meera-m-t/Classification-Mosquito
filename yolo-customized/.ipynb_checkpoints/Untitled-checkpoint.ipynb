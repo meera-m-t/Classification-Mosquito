{
 "cells": [
  {
   "cell_type": "code",
   "execution_count": 2,
   "id": "d0f00b0d",
   "metadata": {},
   "outputs": [],
   "source": [
    "import cv2\n",
    "import numpy as np\n",
    "import os\n",
    "import glob\n",
    "from PIL import Image\n",
    "import numpy as np\n",
    "import os\n",
    "import glob\n",
    "import xml.etree.ElementTree as ET\n",
    "import matplotlib.pyplot as plt\n",
    "import matplotlib.patches as patches\n",
    "from sklearn.preprocessing import minmax_scale"
   ]
  },
  {
   "cell_type": "code",
   "execution_count": null,
   "id": "db6f7f1a",
   "metadata": {},
   "outputs": [],
   "source": [
    "!pip install split-folders\n",
    "import splitfolders\n",
    "!wget https://www.dropbox.com/s/sf52ant5x7cu1ob/final_data2.zip?dl=0\n",
    "!unzip final_data2.zip?dl=0\n",
    "splitfolders.ratio(\"final_data\", output=\"Dataset\", seed=1337, ratio=(.8, 0.2))"
   ]
  },
  {
   "cell_type": "code",
   "execution_count": null,
   "id": "88997ab1",
   "metadata": {},
   "outputs": [],
   "source": [
    "directory1 = 'Dataset/val' #train\n",
    "directory2 = 'Processed_Dataset/images/val' #train\n",
    "# !mkdir -p 'Processed_Dataset/train'\n",
    "for filename in os.listdir(directory1):    \n",
    "    for file in glob.glob(f'{directory1}/{filename}/*.jpg'): \n",
    "        obj_img = cv2.imread(file)\n",
    "        obj_img = cv2.cvtColor(obj_img,cv2.COLOR_BGR2GRAY)\n",
    "        obj_img = np.array(obj_img)       \n",
    "        obj_img = obj_img.reshape(400,400,1)\n",
    "        black_image = np.zeros((450, 450,1), dtype = \"uint8\")\n",
    "        overlay_img1 = np.ones(black_image.shape,np.uint8)*255\n",
    "        rows,cols,channels = obj_img.shape\n",
    "        overlay_img1[25:rows+25, 25:cols+25 ] = obj_img       \n",
    "        ret, mask = cv2.threshold(overlay_img1,220,55,cv2.THRESH_BINARY_INV)\n",
    "        mask_inv = cv2.bitwise_not(mask)\n",
    "        temp1 = cv2.bitwise_and(black_image,black_image,mask = mask_inv)\n",
    "        temp2 = cv2.bitwise_and(overlay_img1,overlay_img1, mask = mask)\n",
    "        result = cv2.add(temp1,temp2)\n",
    "        if not  os.path.exists(f\"{directory2}/{filename}\"):\n",
    "            os.mkdir(f\"{directory2}/{filename}\")\n",
    "            \n",
    "        cv2.imwrite(f\"{directory2}/{filename}/{os.path.basename(file)}\",result)"
   ]
  },
  {
   "cell_type": "code",
   "execution_count": null,
   "id": "b9c0fc99",
   "metadata": {},
   "outputs": [],
   "source": [
    "# The main source is https://blog.paperspace.com/train-yolov5-custom-data/\n",
    "im = Image.open('Processed_Dataset/images/train/Aedes_albopictus/6761_front.jpg')\n",
    "arr = np.asarray(im)\n",
    "print(arr.shape)\n",
    "plt.imshow(arr, cmap='gray')\n",
    "plt.show()\n"
   ]
  },
  {
   "cell_type": "code",
   "execution_count": null,
   "id": "3e9e4084",
   "metadata": {},
   "outputs": [],
   "source": [
    "fig, ax = plt.subplots()\n",
    "ax.imshow(arr, cmap='gray')\n",
    "rect = patches.Rectangle((25, 25), 400, 400, linewidth=1, edgecolor='r', facecolor='none')\n",
    "ax.add_patch(rect)\n",
    "plt.show()\n"
   ]
  },
  {
   "cell_type": "markdown",
   "id": "5bd711d2",
   "metadata": {},
   "source": [
    "\n",
    "### Create xml annotations for each image. Annotations for the dataset follows PASCAL VOC XML format, which is a very popular format."
   ]
  },
  {
   "cell_type": "code",
   "execution_count": 10,
   "id": "eeab158b",
   "metadata": {},
   "outputs": [],
   "source": [
    "!mkdir -p annotations/train\n",
    "!mkdir -p annotations/val"
   ]
  },
  {
   "cell_type": "code",
   "execution_count": 11,
   "id": "10fd954b",
   "metadata": {},
   "outputs": [],
   "source": [
    "dir1 = 'Processed_Dataset/annotations/train' #val\n",
    "directory2 = 'Processed_Dataset/images/train'#val\n",
    "for file_name in os.listdir(directory2): \n",
    "    for file in glob.glob(f'{directory2}/{file_name}/*.jpg'):\n",
    "        img = f'{os.path.basename(file)}'\n",
    "        class_ = f'{file_name}'\n",
    "        annotation = ET.Element('annotation')\n",
    "        folder = ET.SubElement(annotation, 'folder')\n",
    "        filename = ET.SubElement(annotation, 'filename')\n",
    "        size = ET.SubElement(annotation, 'size')\n",
    "        segmented = ET.SubElement(annotation, 'segmented')\n",
    "        object = ET.SubElement(annotation, 'object')\n",
    "\n",
    "        folder.text = 'images'\n",
    "        filename.text = img\n",
    "        segmented.text = '0'\n",
    "\n",
    "        # size items\n",
    "        width = ET.SubElement(size, 'width')\n",
    "        height = ET.SubElement(size, 'height')\n",
    "        depth = ET.SubElement(size, 'depth')\n",
    "        width.text = '450'\n",
    "        height.text = '450'\n",
    "        depth.text = '1'\n",
    "\n",
    "        # object items\n",
    "        name = ET.SubElement(object, 'name')\n",
    "        pose = ET.SubElement(object, 'pose')\n",
    "        truncated = ET.SubElement(object, 'truncated')\n",
    "        occluded = ET.SubElement(object, 'occluded')\n",
    "        difficult = ET.SubElement(object, 'difficult')\n",
    "        name.text = class_\n",
    "        pose.text = 'Unspecified'\n",
    "        truncated.text = '0'\n",
    "        occluded.text = '0'\n",
    "        difficult.text = '0'\n",
    "\n",
    "        bndbox = ET.SubElement(object, 'bndbox')\n",
    "        xmin = ET.SubElement(bndbox, 'xmin')\n",
    "        xmax = ET.SubElement(bndbox, 'xmax')\n",
    "        ymin = ET.SubElement(bndbox, 'ymin')\n",
    "        ymax = ET.SubElement(bndbox, 'ymax')\n",
    "        xmin.text = '25'\n",
    "        xmax.text = '425'\n",
    "        ymin.text = '25'\n",
    "        ymax.text = '425'\n",
    "        # create a new XML file with the results\n",
    "        mydata = ET.tostring(annotation)    \n",
    "        if not  os.path.exists(f\"{dir1}/{file_name}\"):\n",
    "            os.makedirs(f\"{dir1}/{file_name}/\")\n",
    "        name = os.path.splitext(os.path.basename(file))[0]    \n",
    "        myfile = open(f'{dir1}/{file_name}/{name}.xml', \"wb\")\n",
    "        myfile.write(mydata)"
   ]
  },
  {
   "cell_type": "code",
   "execution_count": 12,
   "id": "f2f786da",
   "metadata": {},
   "outputs": [
    {
     "name": "stdout",
     "output_type": "stream",
     "text": [
      "hello\n"
     ]
    }
   ],
   "source": [
    "print(\"hello\")"
   ]
  },
  {
   "cell_type": "code",
   "execution_count": null,
   "id": "02d6cba8",
   "metadata": {},
   "outputs": [],
   "source": []
  }
 ],
 "metadata": {
  "kernelspec": {
   "display_name": "my_env",
   "language": "python",
   "name": "my_env"
  },
  "language_info": {
   "codemirror_mode": {
    "name": "ipython",
    "version": 3
   },
   "file_extension": ".py",
   "mimetype": "text/x-python",
   "name": "python",
   "nbconvert_exporter": "python",
   "pygments_lexer": "ipython3",
   "version": "3.8.12"
  }
 },
 "nbformat": 4,
 "nbformat_minor": 5
}
